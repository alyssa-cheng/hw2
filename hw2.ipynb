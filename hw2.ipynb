{
 "cells": [
  {
   "cell_type": "code",
   "execution_count": 276,
   "metadata": {},
   "outputs": [],
   "source": [
    "import pandas as pd\n",
    "import sqlite3\n",
    "from plotly import express as px \n",
    "import numpy as np"
   ]
  },
  {
   "cell_type": "code",
   "execution_count": 357,
   "metadata": {},
   "outputs": [
    {
     "data": {
      "text/html": [
       "<div>\n",
       "<style scoped>\n",
       "    .dataframe tbody tr th:only-of-type {\n",
       "        vertical-align: middle;\n",
       "    }\n",
       "\n",
       "    .dataframe tbody tr th {\n",
       "        vertical-align: top;\n",
       "    }\n",
       "\n",
       "    .dataframe thead th {\n",
       "        text-align: right;\n",
       "    }\n",
       "</style>\n",
       "<table border=\"1\" class=\"dataframe\">\n",
       "  <thead>\n",
       "    <tr style=\"text-align: right;\">\n",
       "      <th></th>\n",
       "      <th>actor</th>\n",
       "      <th>movie_or_TV_name</th>\n",
       "    </tr>\n",
       "  </thead>\n",
       "  <tbody>\n",
       "    <tr>\n",
       "      <th>0</th>\n",
       "      <td>Pierre Coffin</td>\n",
       "      <td>Despicable Me 4</td>\n",
       "    </tr>\n",
       "    <tr>\n",
       "      <th>1</th>\n",
       "      <td>Pierre Coffin</td>\n",
       "      <td>Minions &amp; More Volume 2</td>\n",
       "    </tr>\n",
       "    <tr>\n",
       "      <th>2</th>\n",
       "      <td>Pierre Coffin</td>\n",
       "      <td>Minions &amp; More 1</td>\n",
       "    </tr>\n",
       "    <tr>\n",
       "      <th>3</th>\n",
       "      <td>Pierre Coffin</td>\n",
       "      <td>Post Modern Minions</td>\n",
       "    </tr>\n",
       "    <tr>\n",
       "      <th>4</th>\n",
       "      <td>Pierre Coffin</td>\n",
       "      <td>Minions: The Rise of Gru</td>\n",
       "    </tr>\n",
       "  </tbody>\n",
       "</table>\n",
       "</div>"
      ],
      "text/plain": [
       "           actor          movie_or_TV_name\n",
       "0  Pierre Coffin           Despicable Me 4\n",
       "1  Pierre Coffin   Minions & More Volume 2\n",
       "2  Pierre Coffin          Minions & More 1\n",
       "3  Pierre Coffin       Post Modern Minions\n",
       "4  Pierre Coffin  Minions: The Rise of Gru"
      ]
     },
     "execution_count": 357,
     "metadata": {},
     "output_type": "execute_result"
    }
   ],
   "source": [
    "df = pd.read_csv(\"~/Documents/GitHub/hw2/TMDB_scraper/results.csv\")\n",
    "df.head()"
   ]
  },
  {
   "cell_type": "code",
   "execution_count": 358,
   "metadata": {},
   "outputs": [
    {
     "data": {
      "text/html": [
       "<div>\n",
       "<style scoped>\n",
       "    .dataframe tbody tr th:only-of-type {\n",
       "        vertical-align: middle;\n",
       "    }\n",
       "\n",
       "    .dataframe tbody tr th {\n",
       "        vertical-align: top;\n",
       "    }\n",
       "\n",
       "    .dataframe thead th {\n",
       "        text-align: right;\n",
       "    }\n",
       "</style>\n",
       "<table border=\"1\" class=\"dataframe\">\n",
       "  <thead>\n",
       "    <tr style=\"text-align: right;\">\n",
       "      <th></th>\n",
       "      <th>actor</th>\n",
       "      <th>movie_or_TV_name</th>\n",
       "      <th>number of shared actors</th>\n",
       "    </tr>\n",
       "  </thead>\n",
       "  <tbody>\n",
       "    <tr>\n",
       "      <th>626</th>\n",
       "      <td>Sam Lavagnino</td>\n",
       "      <td>The Grinch</td>\n",
       "      <td>10</td>\n",
       "    </tr>\n",
       "    <tr>\n",
       "      <th>240</th>\n",
       "      <td>Kevin Michael Richardson</td>\n",
       "      <td>The Simpsons</td>\n",
       "      <td>10</td>\n",
       "    </tr>\n",
       "    <tr>\n",
       "      <th>1000</th>\n",
       "      <td>Taraji P. Henson</td>\n",
       "      <td>The Simpsons</td>\n",
       "      <td>10</td>\n",
       "    </tr>\n",
       "    <tr>\n",
       "      <th>708</th>\n",
       "      <td>Mindy Sterling</td>\n",
       "      <td>The Grinch</td>\n",
       "      <td>10</td>\n",
       "    </tr>\n",
       "    <tr>\n",
       "      <th>664</th>\n",
       "      <td>Levi Nunez</td>\n",
       "      <td>Sing 2</td>\n",
       "      <td>10</td>\n",
       "    </tr>\n",
       "    <tr>\n",
       "      <th>...</th>\n",
       "      <td>...</td>\n",
       "      <td>...</td>\n",
       "      <td>...</td>\n",
       "    </tr>\n",
       "    <tr>\n",
       "      <th>246</th>\n",
       "      <td>Jimmy O. Yang</td>\n",
       "      <td>Marvel's Agents of S.H.I.E.L.D.</td>\n",
       "      <td>2</td>\n",
       "    </tr>\n",
       "    <tr>\n",
       "      <th>706</th>\n",
       "      <td>Mindy Sterling</td>\n",
       "      <td>Madagascar: A Little Wild</td>\n",
       "      <td>2</td>\n",
       "    </tr>\n",
       "    <tr>\n",
       "      <th>248</th>\n",
       "      <td>Jimmy O. Yang</td>\n",
       "      <td>It's Always Sunny in Philadelphia</td>\n",
       "      <td>2</td>\n",
       "    </tr>\n",
       "    <tr>\n",
       "      <th>253</th>\n",
       "      <td>Steve Coogan</td>\n",
       "      <td>John Bishop: In Conversation With...</td>\n",
       "      <td>2</td>\n",
       "    </tr>\n",
       "    <tr>\n",
       "      <th>447</th>\n",
       "      <td>Jake Green</td>\n",
       "      <td>Mr. Corman</td>\n",
       "      <td>2</td>\n",
       "    </tr>\n",
       "  </tbody>\n",
       "</table>\n",
       "<p>1091 rows × 3 columns</p>\n",
       "</div>"
      ],
      "text/plain": [
       "                         actor                      movie_or_TV_name  \\\n",
       "626              Sam Lavagnino                            The Grinch   \n",
       "240   Kevin Michael Richardson                          The Simpsons   \n",
       "1000          Taraji P. Henson                          The Simpsons   \n",
       "708             Mindy Sterling                            The Grinch   \n",
       "664                 Levi Nunez                                Sing 2   \n",
       "...                        ...                                   ...   \n",
       "246              Jimmy O. Yang       Marvel's Agents of S.H.I.E.L.D.   \n",
       "706             Mindy Sterling             Madagascar: A Little Wild   \n",
       "248              Jimmy O. Yang     It's Always Sunny in Philadelphia   \n",
       "253               Steve Coogan  John Bishop: In Conversation With...   \n",
       "447                 Jake Green                            Mr. Corman   \n",
       "\n",
       "      number of shared actors  \n",
       "626                        10  \n",
       "240                        10  \n",
       "1000                       10  \n",
       "708                        10  \n",
       "664                        10  \n",
       "...                       ...  \n",
       "246                         2  \n",
       "706                         2  \n",
       "248                         2  \n",
       "253                         2  \n",
       "447                         2  \n",
       "\n",
       "[1091 rows x 3 columns]"
      ]
     },
     "execution_count": 358,
     "metadata": {},
     "output_type": "execute_result"
    }
   ],
   "source": [
    "df = df.drop_duplicates()\n",
    "df['number of shared actors'] = df.groupby(\"movie_or_TV_name\")[[\"actor\"]].transform(len)\n",
    "df = df[df['movie_or_TV_name'] != 'Minions: The Rise of Gru'] # dropping 'Minions: The Rise of Gru'\n",
    "df = df[df['number of shared actors'] >= 2]\n",
    "df = df.reset_index(drop = True)\n",
    "df = df.sort_values('number of shared actors', ascending = False)\n",
    "\n",
    "df"
   ]
  },
  {
   "cell_type": "code",
   "execution_count": 359,
   "metadata": {},
   "outputs": [
    {
     "data": {
      "text/html": [
       "<div>\n",
       "<style scoped>\n",
       "    .dataframe tbody tr th:only-of-type {\n",
       "        vertical-align: middle;\n",
       "    }\n",
       "\n",
       "    .dataframe tbody tr th {\n",
       "        vertical-align: top;\n",
       "    }\n",
       "\n",
       "    .dataframe thead th {\n",
       "        text-align: right;\n",
       "    }\n",
       "</style>\n",
       "<table border=\"1\" class=\"dataframe\">\n",
       "  <thead>\n",
       "    <tr style=\"text-align: right;\">\n",
       "      <th></th>\n",
       "      <th>actor</th>\n",
       "      <th>movie_or_TV_name</th>\n",
       "      <th>number of shared actors</th>\n",
       "      <th>shared actors</th>\n",
       "    </tr>\n",
       "  </thead>\n",
       "  <tbody>\n",
       "    <tr>\n",
       "      <th>0</th>\n",
       "      <td>Sam Lavagnino</td>\n",
       "      <td>The Grinch</td>\n",
       "      <td>10</td>\n",
       "      <td>[Steve Coogan, Nev Scharrel, Pierre Coffin, St...</td>\n",
       "    </tr>\n",
       "    <tr>\n",
       "      <th>1</th>\n",
       "      <td>Kevin Michael Richardson</td>\n",
       "      <td>The Simpsons</td>\n",
       "      <td>10</td>\n",
       "      <td>[Michael Beattie, Pierre Coffin]</td>\n",
       "    </tr>\n",
       "    <tr>\n",
       "      <th>2</th>\n",
       "      <td>Taraji P. Henson</td>\n",
       "      <td>The Simpsons</td>\n",
       "      <td>10</td>\n",
       "      <td>[John DiMaggio, Nev Scharrel, Raymond S. Persi...</td>\n",
       "    </tr>\n",
       "    <tr>\n",
       "      <th>3</th>\n",
       "      <td>Mindy Sterling</td>\n",
       "      <td>The Grinch</td>\n",
       "      <td>10</td>\n",
       "      <td>[Mindy Sterling, JP Karliak, Pierre Coffin]</td>\n",
       "    </tr>\n",
       "    <tr>\n",
       "      <th>4</th>\n",
       "      <td>Levi Nunez</td>\n",
       "      <td>Sing 2</td>\n",
       "      <td>10</td>\n",
       "      <td>[Nev Scharrel, Raymond S. Persi, Pierre Coffin]</td>\n",
       "    </tr>\n",
       "    <tr>\n",
       "      <th>...</th>\n",
       "      <td>...</td>\n",
       "      <td>...</td>\n",
       "      <td>...</td>\n",
       "      <td>...</td>\n",
       "    </tr>\n",
       "    <tr>\n",
       "      <th>1086</th>\n",
       "      <td>Jimmy O. Yang</td>\n",
       "      <td>Marvel's Agents of S.H.I.E.L.D.</td>\n",
       "      <td>2</td>\n",
       "      <td>[Julie Andrews, Will Arnett, Michelle Yeoh, Ta...</td>\n",
       "    </tr>\n",
       "    <tr>\n",
       "      <th>1087</th>\n",
       "      <td>Mindy Sterling</td>\n",
       "      <td>Madagascar: A Little Wild</td>\n",
       "      <td>2</td>\n",
       "      <td>[Steve Carell, Lucy Lawless]</td>\n",
       "    </tr>\n",
       "    <tr>\n",
       "      <th>1088</th>\n",
       "      <td>Jimmy O. Yang</td>\n",
       "      <td>It's Always Sunny in Philadelphia</td>\n",
       "      <td>2</td>\n",
       "      <td>[Will Arnett, Michelle Yeoh, Taraji P. Henson,...</td>\n",
       "    </tr>\n",
       "    <tr>\n",
       "      <th>1089</th>\n",
       "      <td>Steve Coogan</td>\n",
       "      <td>John Bishop: In Conversation With...</td>\n",
       "      <td>2</td>\n",
       "      <td>[Kevin Michael Richardson, Taraji P. Henson, J...</td>\n",
       "    </tr>\n",
       "    <tr>\n",
       "      <th>1090</th>\n",
       "      <td>Jake Green</td>\n",
       "      <td>Mr. Corman</td>\n",
       "      <td>2</td>\n",
       "      <td>[Taraji P. Henson, Lucy Lawless, Steve Carell]</td>\n",
       "    </tr>\n",
       "  </tbody>\n",
       "</table>\n",
       "<p>1091 rows × 4 columns</p>\n",
       "</div>"
      ],
      "text/plain": [
       "                         actor                      movie_or_TV_name  \\\n",
       "0                Sam Lavagnino                            The Grinch   \n",
       "1     Kevin Michael Richardson                          The Simpsons   \n",
       "2             Taraji P. Henson                          The Simpsons   \n",
       "3               Mindy Sterling                            The Grinch   \n",
       "4                   Levi Nunez                                Sing 2   \n",
       "...                        ...                                   ...   \n",
       "1086             Jimmy O. Yang       Marvel's Agents of S.H.I.E.L.D.   \n",
       "1087            Mindy Sterling             Madagascar: A Little Wild   \n",
       "1088             Jimmy O. Yang     It's Always Sunny in Philadelphia   \n",
       "1089              Steve Coogan  John Bishop: In Conversation With...   \n",
       "1090                Jake Green                            Mr. Corman   \n",
       "\n",
       "      number of shared actors  \\\n",
       "0                          10   \n",
       "1                          10   \n",
       "2                          10   \n",
       "3                          10   \n",
       "4                          10   \n",
       "...                       ...   \n",
       "1086                        2   \n",
       "1087                        2   \n",
       "1088                        2   \n",
       "1089                        2   \n",
       "1090                        2   \n",
       "\n",
       "                                          shared actors  \n",
       "0     [Steve Coogan, Nev Scharrel, Pierre Coffin, St...  \n",
       "1                      [Michael Beattie, Pierre Coffin]  \n",
       "2     [John DiMaggio, Nev Scharrel, Raymond S. Persi...  \n",
       "3           [Mindy Sterling, JP Karliak, Pierre Coffin]  \n",
       "4       [Nev Scharrel, Raymond S. Persi, Pierre Coffin]  \n",
       "...                                                 ...  \n",
       "1086  [Julie Andrews, Will Arnett, Michelle Yeoh, Ta...  \n",
       "1087                       [Steve Carell, Lucy Lawless]  \n",
       "1088  [Will Arnett, Michelle Yeoh, Taraji P. Henson,...  \n",
       "1089  [Kevin Michael Richardson, Taraji P. Henson, J...  \n",
       "1090     [Taraji P. Henson, Lucy Lawless, Steve Carell]  \n",
       "\n",
       "[1091 rows x 4 columns]"
      ]
     },
     "execution_count": 359,
     "metadata": {},
     "output_type": "execute_result"
    }
   ],
   "source": [
    "df2 = df\n",
    "df2['shared actors'] = 0\n",
    "\n",
    "for name in df['movie_or_TV_name'].unique():\n",
    "    SharedActors = df.loc[df['movie_or_TV_name'] == name, 'actor']\n",
    "    SharedActorList = SharedActors.unique().tolist()\n",
    "    df2 = df[df['movie_or_TV_name'] == name]\n",
    "\n",
    "    df_index = df2.index.tolist()\n",
    "\n",
    "    for index in df_index:\n",
    "        df2.at[index, 'shared actors'] = SharedActorList\n",
    "        df.iloc[[index], [3]] = df2.iloc[[0], [3]]\n",
    "\n",
    "df = df.reset_index(drop = True)\n",
    "df\n"
   ]
  },
  {
   "cell_type": "code",
   "execution_count": null,
   "metadata": {},
   "outputs": [],
   "source": [
    "# new_df = df.sort_values(['number of shared actors', 'movie_or_TV_name'], ascending = False)\n",
    "# # movie_TV_list = new_df[0:15]\n",
    "# # movie_TV_list\n",
    "# # new_df = new_df[0:15]\n",
    "# new_df"
   ]
  },
  {
   "cell_type": "code",
   "execution_count": null,
   "metadata": {},
   "outputs": [],
   "source": []
  },
  {
   "cell_type": "code",
   "execution_count": 361,
   "metadata": {},
   "outputs": [
    {
     "data": {
      "application/vnd.plotly.v1+json": {
       "config": {
        "plotlyServerURL": "https://plot.ly"
       },
       "data": [
        {
         "customdata": [
          [
           [
            "Steve Coogan",
            "Nev Scharrel",
            "Pierre Coffin",
            "Steve Carell"
           ]
          ],
          [
           [
            "Michael Beattie",
            "Pierre Coffin"
           ]
          ],
          [
           [
            "John DiMaggio",
            "Nev Scharrel",
            "Raymond S. Persi",
            "Pierre Coffin"
           ]
          ],
          [
           [
            "Mindy Sterling",
            "JP Karliak",
            "Pierre Coffin"
           ]
          ],
          [
           [
            "Nev Scharrel",
            "Raymond S. Persi",
            "Pierre Coffin"
           ]
          ],
          [
           [
            "John DiMaggio",
            "Nev Scharrel",
            "Pierre Coffin"
           ]
          ],
          [
           [
            "Pierre Coffin",
            "Raymond S. Persi"
           ]
          ],
          [
           [
            "Kyle Balda",
            "Russell Brand",
            "Pierre Coffin",
            "Steve Carell"
           ]
          ],
          [
           [
            "Pierre Coffin",
            "Nev Scharrel"
           ]
          ],
          [
           [
            "Kyle Balda",
            "Michael Beattie",
            "Pierre Coffin",
            "Nev Scharrel",
            "Bob Bergen",
            "Steve Carell",
            "Steve Coogan",
            "Mindy Sterling",
            "Julie Andrews"
           ]
          ],
          [
           [
            "Pierre Coffin",
            "Kyle Balda"
           ]
          ],
          [
           [
            "Kyle Balda",
            "Colette Whitaker",
            "Michael Beattie",
            "Bob Bergen",
            "Steve Carell",
            "Steve Coogan",
            "Mindy Sterling",
            "Pierre Coffin"
           ]
          ],
          [
           [
            "Pierre Coffin",
            "Steve Carell"
           ]
          ],
          [
           [
            "Steve Coogan",
            "Russell Brand",
            "Debi Derryberry",
            "Steve Carell",
            "Pierre Coffin"
           ]
          ],
          [
           [
            "Pierre Coffin",
            "Steve Carell"
           ]
          ],
          [
           [
            "Pierre Coffin",
            "Kyle Balda"
           ]
          ],
          [
           [
            "Pierre Coffin",
            "Kyle Balda"
           ]
          ],
          [
           [
            "Pierre Coffin",
            "Kyle Balda"
           ]
          ],
          [
           [
            "Julie Andrews",
            "Will Arnett",
            "Russell Brand",
            "Pierre Coffin",
            "Steve Carell"
           ]
          ],
          [
           [
            "Bob Bergen",
            "Debra Wilson"
           ]
          ],
          [
           [
            "Debra Wilson",
            "Fred Tatasciore"
           ]
          ],
          [
           [
            "Amari McCoy",
            "Fred Tatasciore",
            "Kevin Michael Richardson",
            "Debra Wilson"
           ]
          ],
          [
           [
            "Levi Nunez",
            "JP Karliak",
            "Aaron Hendry",
            "Isa Hall",
            "Cathy Cavadini",
            "Debra Wilson",
            "Colette Whitaker",
            "Regina Taufen",
            "Nora Wyman",
            "Will Collyer"
           ]
          ],
          [
           [
            "John DiMaggio",
            "JP Karliak",
            "Debra Wilson"
           ]
          ],
          [
           [
            "Debra Wilson",
            "Fred Tatasciore"
           ]
          ],
          [
           [
            "Debra Wilson",
            "Fred Tatasciore"
           ]
          ],
          [
           [
            "Fred Tatasciore",
            "David Chen",
            "Debra Wilson"
           ]
          ],
          [
           [
            "John DiMaggio",
            "Debra Wilson"
           ]
          ],
          [
           [
            "Fred Tatasciore",
            "Debra Wilson",
            "Kevin Michael Richardson"
           ]
          ],
          [
           [
            "John DiMaggio",
            "Kevin Michael Richardson",
            "Debra Wilson",
            "Fred Tatasciore"
           ]
          ],
          [
           [
            "Debra Wilson",
            "Debi Derryberry"
           ]
          ],
          [
           [
            "Debra Wilson",
            "Fred Tatasciore"
           ]
          ],
          [
           [
            "Debi Derryberry",
            "Debra Wilson",
            "Bob Bergen",
            "Fred Tatasciore"
           ]
          ],
          [
           [
            "Kevin Michael Richardson",
            "Debra Wilson"
           ]
          ],
          [
           [
            "Debra Wilson",
            "Mindy Sterling"
           ]
          ],
          [
           [
            "Debra Wilson",
            "Fred Tatasciore"
           ]
          ],
          [
           [
            "Fred Tatasciore",
            "Mindy Sterling",
            "John DiMaggio",
            "Debra Wilson",
            "Danny Trejo"
           ]
          ],
          [
           [
            "John DiMaggio",
            "Debra Wilson",
            "Kevin Michael Richardson"
           ]
          ],
          [
           [
            "Dawnn Lewis",
            "Kevin Michael Richardson",
            "James Sie",
            "Fred Tatasciore",
            "Debra Wilson"
           ]
          ],
          [
           [
            "Danny Trejo",
            "John DiMaggio",
            "Debra Wilson",
            "Kevin Michael Richardson"
           ]
          ],
          [
           [
            "Taraji P. Henson",
            "Lucy Lawless",
            "Debra Wilson"
           ]
          ],
          [
           [
            "Beau Billingslea",
            "Debra Wilson"
           ]
          ],
          [
           [
            "Debra Wilson",
            "Steve Carell"
           ]
          ],
          [
           [
            "Debra Wilson",
            "Dawnn Lewis"
           ]
          ],
          [
           [
            "Beau Billingslea",
            "Debra Wilson"
           ]
          ],
          [
           [
            "Lucy Lawless",
            "Debra Wilson"
           ]
          ],
          [
           [
            "John DiMaggio",
            "Fred Tatasciore",
            "Danny Trejo",
            "Debra Wilson",
            "Lucy Lawless",
            "Jimmy O. Yang",
            "Kevin Michael Richardson",
            "Mindy Sterling"
           ]
          ],
          [
           [
            "Debra Wilson",
            "Mindy Sterling"
           ]
          ],
          [
           [
            "Debra Wilson",
            "Mindy Sterling"
           ]
          ],
          [
           [
            "John DiMaggio",
            "James Sie",
            "Debra Wilson"
           ]
          ],
          [
           [
            "Debra Wilson",
            "Kevin Michael Richardson"
           ]
          ],
          [
           [
            "Taraji P. Henson",
            "Benjamin Plessala",
            "Debra Wilson"
           ]
          ],
          [
           [
            "Kevin Michael Richardson",
            "Danny Trejo",
            "Fred Tatasciore",
            "Mindy Sterling",
            "Amari McCoy",
            "Dolph Lundgren",
            "Debra Wilson"
           ]
          ],
          [
           [
            "Jean-Claude Van Damme",
            "Debra Wilson"
           ]
          ],
          [
           [
            "Kyle Balda",
            "Russell Brand",
            "Pierre Coffin",
            "Steve Carell"
           ]
          ],
          [
           [
            "Kyle Balda",
            "Michael Beattie",
            "Pierre Coffin",
            "Nev Scharrel",
            "Bob Bergen",
            "Steve Carell",
            "Steve Coogan",
            "Mindy Sterling",
            "Julie Andrews"
           ]
          ],
          [
           [
            "Pierre Coffin",
            "Kyle Balda"
           ]
          ],
          [
           [
            "Kyle Balda",
            "Colette Whitaker",
            "Michael Beattie",
            "Bob Bergen",
            "Steve Carell",
            "Steve Coogan",
            "Mindy Sterling",
            "Pierre Coffin"
           ]
          ],
          [
           [
            "Debi Derryberry",
            "Michael Beattie",
            "Bob Bergen",
            "Kyle Balda"
           ]
          ],
          [
           [
            "Pierre Coffin",
            "Kyle Balda"
           ]
          ],
          [
           [
            "Pierre Coffin",
            "Kyle Balda"
           ]
          ],
          [
           [
            "Pierre Coffin",
            "Kyle Balda"
           ]
          ],
          [
           [
            "John DiMaggio",
            "Nev Scharrel",
            "Raymond S. Persi",
            "Pierre Coffin"
           ]
          ],
          [
           [
            "Kevin Michael Richardson",
            "Raymond S. Persi"
           ]
          ],
          [
           [
            "Nev Scharrel",
            "Raymond S. Persi",
            "Pierre Coffin"
           ]
          ],
          [
           [
            "Pierre Coffin",
            "Raymond S. Persi"
           ]
          ],
          [
           [
            "Taraji P. Henson",
            "John DiMaggio",
            "Raymond S. Persi"
           ]
          ],
          [
           [
            "Raymond S. Persi",
            "John DiMaggio"
           ]
          ],
          [
           [
            "Bob Bergen",
            "Raymond S. Persi"
           ]
          ],
          [
           [
            "Fred Tatasciore",
            "Raymond S. Persi"
           ]
          ],
          [
           [
            "Bob Bergen",
            "Fred Tatasciore",
            "Raymond S. Persi",
            "John DiMaggio",
            "Debi Derryberry"
           ]
          ],
          [
           [
            "Levi Nunez",
            "JP Karliak",
            "Aaron Hendry",
            "Isa Hall",
            "Cathy Cavadini",
            "Debra Wilson",
            "Colette Whitaker",
            "Regina Taufen",
            "Nora Wyman",
            "Will Collyer"
           ]
          ],
          [
           [
            "Colette Whitaker",
            "Michelle Yeoh"
           ]
          ],
          [
           [
            "Will Arnett",
            "Colette Whitaker",
            "Jake Green",
            "Alan Arkin",
            "Ramone Hamilton"
           ]
          ],
          [
           [
            "Colette Whitaker",
            "Michelle Yeoh"
           ]
          ]
         ],
         "hovertemplate": "<b>%{hovertext}</b><br><br>movie_or_TV_name=%{x}<br>number of shared actors=%{y}<br>shared actors=%{customdata[0]}<extra></extra>",
         "hovertext": [
          "The Grinch",
          "The Simpsons",
          "The Simpsons",
          "The Grinch",
          "Sing 2",
          "The Grinch",
          "The Simpsons",
          "The Grinch",
          "Sing 2",
          "The Simpsons",
          "The Grinch",
          "Sing 2",
          "Sing 2",
          "Sing 2",
          "The Simpsons",
          "The Simpsons",
          "The Grinch",
          "The Simpsons",
          "Sing 2",
          "The Simpsons",
          "The Simpsons",
          "The Grinch",
          "The Simpsons",
          "The Grinch",
          "Sing 2",
          "Sing 2",
          "The Grinch",
          "The Grinch",
          "Sing 2",
          "Sing 2",
          "Despicable Me 3",
          "Despicable Me 3",
          "Despicable Me 3",
          "Despicable Me 3",
          "Despicable Me 3",
          "Despicable Me 3",
          "Despicable Me 3",
          "Despicable Me 3",
          "Despicable Me 3",
          "Minions",
          "American Dad!",
          "Minions",
          "American Dad!",
          "American Dad!",
          "American Dad!",
          "American Dad!",
          "Minions",
          "Minions",
          "American Dad!",
          "Minions",
          "American Dad!",
          "Minions",
          "Minions",
          "Minions",
          "American Dad!",
          "Family Guy",
          "Family Guy",
          "Family Guy",
          "We Bare Bears",
          "Family Guy",
          "Family Guy",
          "We Bare Bears",
          "We Bare Bears",
          "We Bare Bears",
          "We Bare Bears",
          "We Bare Bears",
          "We Bare Bears",
          "Family Guy",
          "Family Guy",
          "The Tonight Show Starring Jimmy Fallon",
          "The Tonight Show Starring Jimmy Fallon",
          "The Tonight Show Starring Jimmy Fallon",
          "The Tonight Show Starring Jimmy Fallon",
          "The Tonight Show Starring Jimmy Fallon",
          "The Tonight Show Starring Jimmy Fallon"
         ],
         "legendgroup": "",
         "marker": {
          "color": "#636efa",
          "opacity": 0.5,
          "symbol": "circle"
         },
         "mode": "markers",
         "name": "",
         "orientation": "v",
         "showlegend": false,
         "type": "scatter",
         "x": [
          "The Grinch",
          "The Simpsons",
          "The Simpsons",
          "The Grinch",
          "Sing 2",
          "The Grinch",
          "The Simpsons",
          "The Grinch",
          "Sing 2",
          "The Simpsons",
          "The Grinch",
          "Sing 2",
          "Sing 2",
          "Sing 2",
          "The Simpsons",
          "The Simpsons",
          "The Grinch",
          "The Simpsons",
          "Sing 2",
          "The Simpsons",
          "The Simpsons",
          "The Grinch",
          "The Simpsons",
          "The Grinch",
          "Sing 2",
          "Sing 2",
          "The Grinch",
          "The Grinch",
          "Sing 2",
          "Sing 2",
          "Despicable Me 3",
          "Despicable Me 3",
          "Despicable Me 3",
          "Despicable Me 3",
          "Despicable Me 3",
          "Despicable Me 3",
          "Despicable Me 3",
          "Despicable Me 3",
          "Despicable Me 3",
          "Minions",
          "American Dad!",
          "Minions",
          "American Dad!",
          "American Dad!",
          "American Dad!",
          "American Dad!",
          "Minions",
          "Minions",
          "American Dad!",
          "Minions",
          "American Dad!",
          "Minions",
          "Minions",
          "Minions",
          "American Dad!",
          "Family Guy",
          "Family Guy",
          "Family Guy",
          "We Bare Bears",
          "Family Guy",
          "Family Guy",
          "We Bare Bears",
          "We Bare Bears",
          "We Bare Bears",
          "We Bare Bears",
          "We Bare Bears",
          "We Bare Bears",
          "Family Guy",
          "Family Guy",
          "The Tonight Show Starring Jimmy Fallon",
          "The Tonight Show Starring Jimmy Fallon",
          "The Tonight Show Starring Jimmy Fallon",
          "The Tonight Show Starring Jimmy Fallon",
          "The Tonight Show Starring Jimmy Fallon",
          "The Tonight Show Starring Jimmy Fallon"
         ],
         "xaxis": "x",
         "y": [
          10,
          10,
          10,
          10,
          10,
          10,
          10,
          10,
          10,
          10,
          10,
          10,
          10,
          10,
          10,
          10,
          10,
          10,
          10,
          10,
          10,
          10,
          10,
          10,
          10,
          10,
          10,
          10,
          10,
          10,
          9,
          9,
          9,
          9,
          9,
          9,
          9,
          9,
          9,
          8,
          8,
          8,
          8,
          8,
          8,
          8,
          8,
          8,
          8,
          8,
          8,
          8,
          8,
          8,
          8,
          7,
          7,
          7,
          7,
          7,
          7,
          7,
          7,
          7,
          7,
          7,
          7,
          7,
          7,
          6,
          6,
          6,
          6,
          6,
          6
         ],
         "yaxis": "y"
        }
       ],
       "layout": {
        "height": 300,
        "legend": {
         "tracegroupgap": 0
        },
        "margin": {
         "t": 60
        },
        "template": {
         "data": {
          "bar": [
           {
            "error_x": {
             "color": "#2a3f5f"
            },
            "error_y": {
             "color": "#2a3f5f"
            },
            "marker": {
             "line": {
              "color": "#E5ECF6",
              "width": 0.5
             },
             "pattern": {
              "fillmode": "overlay",
              "size": 10,
              "solidity": 0.2
             }
            },
            "type": "bar"
           }
          ],
          "barpolar": [
           {
            "marker": {
             "line": {
              "color": "#E5ECF6",
              "width": 0.5
             },
             "pattern": {
              "fillmode": "overlay",
              "size": 10,
              "solidity": 0.2
             }
            },
            "type": "barpolar"
           }
          ],
          "carpet": [
           {
            "aaxis": {
             "endlinecolor": "#2a3f5f",
             "gridcolor": "white",
             "linecolor": "white",
             "minorgridcolor": "white",
             "startlinecolor": "#2a3f5f"
            },
            "baxis": {
             "endlinecolor": "#2a3f5f",
             "gridcolor": "white",
             "linecolor": "white",
             "minorgridcolor": "white",
             "startlinecolor": "#2a3f5f"
            },
            "type": "carpet"
           }
          ],
          "choropleth": [
           {
            "colorbar": {
             "outlinewidth": 0,
             "ticks": ""
            },
            "type": "choropleth"
           }
          ],
          "contour": [
           {
            "colorbar": {
             "outlinewidth": 0,
             "ticks": ""
            },
            "colorscale": [
             [
              0,
              "#0d0887"
             ],
             [
              0.1111111111111111,
              "#46039f"
             ],
             [
              0.2222222222222222,
              "#7201a8"
             ],
             [
              0.3333333333333333,
              "#9c179e"
             ],
             [
              0.4444444444444444,
              "#bd3786"
             ],
             [
              0.5555555555555556,
              "#d8576b"
             ],
             [
              0.6666666666666666,
              "#ed7953"
             ],
             [
              0.7777777777777778,
              "#fb9f3a"
             ],
             [
              0.8888888888888888,
              "#fdca26"
             ],
             [
              1,
              "#f0f921"
             ]
            ],
            "type": "contour"
           }
          ],
          "contourcarpet": [
           {
            "colorbar": {
             "outlinewidth": 0,
             "ticks": ""
            },
            "type": "contourcarpet"
           }
          ],
          "heatmap": [
           {
            "colorbar": {
             "outlinewidth": 0,
             "ticks": ""
            },
            "colorscale": [
             [
              0,
              "#0d0887"
             ],
             [
              0.1111111111111111,
              "#46039f"
             ],
             [
              0.2222222222222222,
              "#7201a8"
             ],
             [
              0.3333333333333333,
              "#9c179e"
             ],
             [
              0.4444444444444444,
              "#bd3786"
             ],
             [
              0.5555555555555556,
              "#d8576b"
             ],
             [
              0.6666666666666666,
              "#ed7953"
             ],
             [
              0.7777777777777778,
              "#fb9f3a"
             ],
             [
              0.8888888888888888,
              "#fdca26"
             ],
             [
              1,
              "#f0f921"
             ]
            ],
            "type": "heatmap"
           }
          ],
          "heatmapgl": [
           {
            "colorbar": {
             "outlinewidth": 0,
             "ticks": ""
            },
            "colorscale": [
             [
              0,
              "#0d0887"
             ],
             [
              0.1111111111111111,
              "#46039f"
             ],
             [
              0.2222222222222222,
              "#7201a8"
             ],
             [
              0.3333333333333333,
              "#9c179e"
             ],
             [
              0.4444444444444444,
              "#bd3786"
             ],
             [
              0.5555555555555556,
              "#d8576b"
             ],
             [
              0.6666666666666666,
              "#ed7953"
             ],
             [
              0.7777777777777778,
              "#fb9f3a"
             ],
             [
              0.8888888888888888,
              "#fdca26"
             ],
             [
              1,
              "#f0f921"
             ]
            ],
            "type": "heatmapgl"
           }
          ],
          "histogram": [
           {
            "marker": {
             "pattern": {
              "fillmode": "overlay",
              "size": 10,
              "solidity": 0.2
             }
            },
            "type": "histogram"
           }
          ],
          "histogram2d": [
           {
            "colorbar": {
             "outlinewidth": 0,
             "ticks": ""
            },
            "colorscale": [
             [
              0,
              "#0d0887"
             ],
             [
              0.1111111111111111,
              "#46039f"
             ],
             [
              0.2222222222222222,
              "#7201a8"
             ],
             [
              0.3333333333333333,
              "#9c179e"
             ],
             [
              0.4444444444444444,
              "#bd3786"
             ],
             [
              0.5555555555555556,
              "#d8576b"
             ],
             [
              0.6666666666666666,
              "#ed7953"
             ],
             [
              0.7777777777777778,
              "#fb9f3a"
             ],
             [
              0.8888888888888888,
              "#fdca26"
             ],
             [
              1,
              "#f0f921"
             ]
            ],
            "type": "histogram2d"
           }
          ],
          "histogram2dcontour": [
           {
            "colorbar": {
             "outlinewidth": 0,
             "ticks": ""
            },
            "colorscale": [
             [
              0,
              "#0d0887"
             ],
             [
              0.1111111111111111,
              "#46039f"
             ],
             [
              0.2222222222222222,
              "#7201a8"
             ],
             [
              0.3333333333333333,
              "#9c179e"
             ],
             [
              0.4444444444444444,
              "#bd3786"
             ],
             [
              0.5555555555555556,
              "#d8576b"
             ],
             [
              0.6666666666666666,
              "#ed7953"
             ],
             [
              0.7777777777777778,
              "#fb9f3a"
             ],
             [
              0.8888888888888888,
              "#fdca26"
             ],
             [
              1,
              "#f0f921"
             ]
            ],
            "type": "histogram2dcontour"
           }
          ],
          "mesh3d": [
           {
            "colorbar": {
             "outlinewidth": 0,
             "ticks": ""
            },
            "type": "mesh3d"
           }
          ],
          "parcoords": [
           {
            "line": {
             "colorbar": {
              "outlinewidth": 0,
              "ticks": ""
             }
            },
            "type": "parcoords"
           }
          ],
          "pie": [
           {
            "automargin": true,
            "type": "pie"
           }
          ],
          "scatter": [
           {
            "fillpattern": {
             "fillmode": "overlay",
             "size": 10,
             "solidity": 0.2
            },
            "type": "scatter"
           }
          ],
          "scatter3d": [
           {
            "line": {
             "colorbar": {
              "outlinewidth": 0,
              "ticks": ""
             }
            },
            "marker": {
             "colorbar": {
              "outlinewidth": 0,
              "ticks": ""
             }
            },
            "type": "scatter3d"
           }
          ],
          "scattercarpet": [
           {
            "marker": {
             "colorbar": {
              "outlinewidth": 0,
              "ticks": ""
             }
            },
            "type": "scattercarpet"
           }
          ],
          "scattergeo": [
           {
            "marker": {
             "colorbar": {
              "outlinewidth": 0,
              "ticks": ""
             }
            },
            "type": "scattergeo"
           }
          ],
          "scattergl": [
           {
            "marker": {
             "colorbar": {
              "outlinewidth": 0,
              "ticks": ""
             }
            },
            "type": "scattergl"
           }
          ],
          "scattermapbox": [
           {
            "marker": {
             "colorbar": {
              "outlinewidth": 0,
              "ticks": ""
             }
            },
            "type": "scattermapbox"
           }
          ],
          "scatterpolar": [
           {
            "marker": {
             "colorbar": {
              "outlinewidth": 0,
              "ticks": ""
             }
            },
            "type": "scatterpolar"
           }
          ],
          "scatterpolargl": [
           {
            "marker": {
             "colorbar": {
              "outlinewidth": 0,
              "ticks": ""
             }
            },
            "type": "scatterpolargl"
           }
          ],
          "scatterternary": [
           {
            "marker": {
             "colorbar": {
              "outlinewidth": 0,
              "ticks": ""
             }
            },
            "type": "scatterternary"
           }
          ],
          "surface": [
           {
            "colorbar": {
             "outlinewidth": 0,
             "ticks": ""
            },
            "colorscale": [
             [
              0,
              "#0d0887"
             ],
             [
              0.1111111111111111,
              "#46039f"
             ],
             [
              0.2222222222222222,
              "#7201a8"
             ],
             [
              0.3333333333333333,
              "#9c179e"
             ],
             [
              0.4444444444444444,
              "#bd3786"
             ],
             [
              0.5555555555555556,
              "#d8576b"
             ],
             [
              0.6666666666666666,
              "#ed7953"
             ],
             [
              0.7777777777777778,
              "#fb9f3a"
             ],
             [
              0.8888888888888888,
              "#fdca26"
             ],
             [
              1,
              "#f0f921"
             ]
            ],
            "type": "surface"
           }
          ],
          "table": [
           {
            "cells": {
             "fill": {
              "color": "#EBF0F8"
             },
             "line": {
              "color": "white"
             }
            },
            "header": {
             "fill": {
              "color": "#C8D4E3"
             },
             "line": {
              "color": "white"
             }
            },
            "type": "table"
           }
          ]
         },
         "layout": {
          "annotationdefaults": {
           "arrowcolor": "#2a3f5f",
           "arrowhead": 0,
           "arrowwidth": 1
          },
          "autotypenumbers": "strict",
          "coloraxis": {
           "colorbar": {
            "outlinewidth": 0,
            "ticks": ""
           }
          },
          "colorscale": {
           "diverging": [
            [
             0,
             "#8e0152"
            ],
            [
             0.1,
             "#c51b7d"
            ],
            [
             0.2,
             "#de77ae"
            ],
            [
             0.3,
             "#f1b6da"
            ],
            [
             0.4,
             "#fde0ef"
            ],
            [
             0.5,
             "#f7f7f7"
            ],
            [
             0.6,
             "#e6f5d0"
            ],
            [
             0.7,
             "#b8e186"
            ],
            [
             0.8,
             "#7fbc41"
            ],
            [
             0.9,
             "#4d9221"
            ],
            [
             1,
             "#276419"
            ]
           ],
           "sequential": [
            [
             0,
             "#0d0887"
            ],
            [
             0.1111111111111111,
             "#46039f"
            ],
            [
             0.2222222222222222,
             "#7201a8"
            ],
            [
             0.3333333333333333,
             "#9c179e"
            ],
            [
             0.4444444444444444,
             "#bd3786"
            ],
            [
             0.5555555555555556,
             "#d8576b"
            ],
            [
             0.6666666666666666,
             "#ed7953"
            ],
            [
             0.7777777777777778,
             "#fb9f3a"
            ],
            [
             0.8888888888888888,
             "#fdca26"
            ],
            [
             1,
             "#f0f921"
            ]
           ],
           "sequentialminus": [
            [
             0,
             "#0d0887"
            ],
            [
             0.1111111111111111,
             "#46039f"
            ],
            [
             0.2222222222222222,
             "#7201a8"
            ],
            [
             0.3333333333333333,
             "#9c179e"
            ],
            [
             0.4444444444444444,
             "#bd3786"
            ],
            [
             0.5555555555555556,
             "#d8576b"
            ],
            [
             0.6666666666666666,
             "#ed7953"
            ],
            [
             0.7777777777777778,
             "#fb9f3a"
            ],
            [
             0.8888888888888888,
             "#fdca26"
            ],
            [
             1,
             "#f0f921"
            ]
           ]
          },
          "colorway": [
           "#636efa",
           "#EF553B",
           "#00cc96",
           "#ab63fa",
           "#FFA15A",
           "#19d3f3",
           "#FF6692",
           "#B6E880",
           "#FF97FF",
           "#FECB52"
          ],
          "font": {
           "color": "#2a3f5f"
          },
          "geo": {
           "bgcolor": "white",
           "lakecolor": "white",
           "landcolor": "#E5ECF6",
           "showlakes": true,
           "showland": true,
           "subunitcolor": "white"
          },
          "hoverlabel": {
           "align": "left"
          },
          "hovermode": "closest",
          "mapbox": {
           "style": "light"
          },
          "paper_bgcolor": "white",
          "plot_bgcolor": "#E5ECF6",
          "polar": {
           "angularaxis": {
            "gridcolor": "white",
            "linecolor": "white",
            "ticks": ""
           },
           "bgcolor": "#E5ECF6",
           "radialaxis": {
            "gridcolor": "white",
            "linecolor": "white",
            "ticks": ""
           }
          },
          "scene": {
           "xaxis": {
            "backgroundcolor": "#E5ECF6",
            "gridcolor": "white",
            "gridwidth": 2,
            "linecolor": "white",
            "showbackground": true,
            "ticks": "",
            "zerolinecolor": "white"
           },
           "yaxis": {
            "backgroundcolor": "#E5ECF6",
            "gridcolor": "white",
            "gridwidth": 2,
            "linecolor": "white",
            "showbackground": true,
            "ticks": "",
            "zerolinecolor": "white"
           },
           "zaxis": {
            "backgroundcolor": "#E5ECF6",
            "gridcolor": "white",
            "gridwidth": 2,
            "linecolor": "white",
            "showbackground": true,
            "ticks": "",
            "zerolinecolor": "white"
           }
          },
          "shapedefaults": {
           "line": {
            "color": "#2a3f5f"
           }
          },
          "ternary": {
           "aaxis": {
            "gridcolor": "white",
            "linecolor": "white",
            "ticks": ""
           },
           "baxis": {
            "gridcolor": "white",
            "linecolor": "white",
            "ticks": ""
           },
           "bgcolor": "#E5ECF6",
           "caxis": {
            "gridcolor": "white",
            "linecolor": "white",
            "ticks": ""
           }
          },
          "title": {
           "x": 0.05
          },
          "xaxis": {
           "automargin": true,
           "gridcolor": "white",
           "linecolor": "white",
           "ticks": "",
           "title": {
            "standoff": 15
           },
           "zerolinecolor": "white",
           "zerolinewidth": 2
          },
          "yaxis": {
           "automargin": true,
           "gridcolor": "white",
           "linecolor": "white",
           "ticks": "",
           "title": {
            "standoff": 15
           },
           "zerolinecolor": "white",
           "zerolinewidth": 2
          }
         }
        },
        "width": 500,
        "xaxis": {
         "anchor": "y",
         "domain": [
          0,
          1
         ],
         "title": {
          "text": "movie_or_TV_name"
         }
        },
        "yaxis": {
         "anchor": "x",
         "domain": [
          0,
          1
         ],
         "title": {
          "text": "number of shared actors"
         }
        }
       }
      }
     },
     "metadata": {},
     "output_type": "display_data"
    }
   ],
   "source": [
    "df = df.head(75)\n",
    "fig = px.scatter(data_frame = df, \n",
    "                 x = \"movie_or_TV_name\", \n",
    "                 y = \"number of shared actors\",\n",
    "                 hover_name = 'movie_or_TV_name',\n",
    "                 hover_data = [\"shared actors\"],\n",
    "                 width = 500,\n",
    "                 height = 300,\n",
    "                 opacity = 0.5)\n",
    "\n",
    "# reduce whitespace\n",
    "# fig.update_layout(margin={\"r\":0,\"t\":0,\"l\":0,\"b\":0})\n",
    "# show the plot\n",
    "fig.show()"
   ]
  },
  {
   "cell_type": "code",
   "execution_count": null,
   "metadata": {},
   "outputs": [],
   "source": []
  }
 ],
 "metadata": {
  "kernelspec": {
   "display_name": "PIC16B",
   "language": "python",
   "name": "python3"
  },
  "language_info": {
   "codemirror_mode": {
    "name": "ipython",
    "version": 3
   },
   "file_extension": ".py",
   "mimetype": "text/x-python",
   "name": "python",
   "nbconvert_exporter": "python",
   "pygments_lexer": "ipython3",
   "version": "3.8.15"
  },
  "orig_nbformat": 4,
  "vscode": {
   "interpreter": {
    "hash": "25d01a15fbad6d86f6fb173b65f372a5de5983691a6031a1cca20a416464f5ec"
   }
  }
 },
 "nbformat": 4,
 "nbformat_minor": 2
}
